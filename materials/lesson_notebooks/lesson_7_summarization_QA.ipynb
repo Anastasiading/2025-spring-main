{
  "cells": [
    {
      "cell_type": "markdown",
      "metadata": {
        "id": "tcH1I6BsI1CY"
      },
      "source": [
        "# Lesson notebook 7 - Summarization and Question Answering\n",
        "\n",
        "\n",
        "\n",
        "### Extractive summarization example\n",
        "\n",
        "One of the challenges faced by current neural systems is the size of the input they can manage.  As a result most  of these systems end up truncating the input in some fashion.  Can you get a good summary if you only read in the first 500 words of a document?  One solution to this is to use an older approach called extractive summarization.  In this approach the content of the input document(s) is broken into sentences which are scored for their relevance to either the document or to a query.  We'll demonstrate it's use on a wikipedia article.\n",
        "\n",
        "\n",
        "### Abstractive  summarization example\n",
        "\n",
        "We'll use T5 again to summarize some input text.  We do this because the text in -> text out interface as well as the multi-task fine tuning makes it a great vehicle for demonstration.\n",
        "\n",
        "\n",
        "### Span-based question answering example\n",
        "\n",
        "There are a variety of approaches to question answering.  Here we demonstrate one particular approach to the problem -- span detection -- where we feed a context paragraph and the question to the system and want the machine to identify the answer span within the context paragraph.\n",
        "\n",
        "<a id = 'returnToTop'></a>\n",
        "\n",
        "## Notebook Contents\n",
        "  * 1. [Setup](#setup)\n",
        "  * 2. [SumBasic Extractive Summarization](#extractiveSummarization)\n",
        "  * 3. [Abstractive Summarization with T5](#abstractiveSummarization)\n",
        "  * 4. [Extractive Question Answering with T5](#extractiveQA)\n",
        "  * [Answers](#answers)\n",
        "\n",
        "[![Open In Colab](https://colab.research.google.com/assets/colab-badge.svg)](https://colab.research.google.com/github/datasci-w266/2025-spring-main/blob/master/materials/lesson_notebooks/lesson_7_summarization_QA.ipynb)\n",
        "\n"
      ]
    },
    {
      "cell_type": "markdown",
      "metadata": {
        "id": "NYOyJBZHbLgv"
      },
      "source": [
        "[Return to Top](#returnToTop)\n",
        "<a id = 'setup'></a>\n",
        "\n",
        "## 1. Setup\n",
        "\n",
        "Let's set up our environment so we can grab the wikipedia page on Natural Language Processing.  You can modify the string to find the Wikipedia page of your choice.  We'll need NLTK to build our extractive summarizer.\n",
        "\n",
        "We'll also need the HuggingFace Transformers library for our abstractive summarization and question answering examples."
      ]
    },
    {
      "cell_type": "markdown",
      "metadata": {
        "id": "El7x22c9bLgy"
      },
      "source": [
        "Now let's get a document to summarize.  We'll use Wikipedia since it contains a large number of longer documents."
      ]
    },
    {
      "cell_type": "code",
      "execution_count": 1,
      "metadata": {
        "id": "JKbUf5Fq0Tf6"
      },
      "outputs": [],
      "source": [
        "!pip install -q wikipedia"
      ]
    },
    {
      "cell_type": "code",
      "execution_count": 2,
      "metadata": {
        "id": "9_4igssSbLgz"
      },
      "outputs": [],
      "source": [
        "!pip install -q sentencepiece"
      ]
    },
    {
      "cell_type": "code",
      "execution_count": 3,
      "metadata": {
        "id": "qCp2UU4fbLg0"
      },
      "outputs": [],
      "source": [
        "!pip install -q transformers"
      ]
    },
    {
      "cell_type": "code",
      "source": [
        "import nltk\n",
        "import nltk.corpus\n",
        "nltk.download('punkt')\n",
        "nltk.download('stopwords')\n",
        "nltk.download('wordnet')\n",
        "nltk.download('punkt_tab')"
      ],
      "metadata": {
        "id": "UBxhOWtCaMO8",
        "colab": {
          "base_uri": "https://localhost:8080/"
        },
        "outputId": "d83c49d6-b2f0-48a0-b0f0-eeabe7058620"
      },
      "execution_count": 4,
      "outputs": [
        {
          "output_type": "stream",
          "name": "stderr",
          "text": [
            "[nltk_data] Downloading package punkt to /root/nltk_data...\n",
            "[nltk_data]   Package punkt is already up-to-date!\n",
            "[nltk_data] Downloading package stopwords to /root/nltk_data...\n",
            "[nltk_data]   Package stopwords is already up-to-date!\n",
            "[nltk_data] Downloading package wordnet to /root/nltk_data...\n",
            "[nltk_data]   Package wordnet is already up-to-date!\n",
            "[nltk_data] Downloading package punkt_tab to /root/nltk_data...\n",
            "[nltk_data]   Unzipping tokenizers/punkt_tab.zip.\n"
          ]
        },
        {
          "output_type": "execute_result",
          "data": {
            "text/plain": [
              "True"
            ]
          },
          "metadata": {},
          "execution_count": 4
        }
      ]
    },
    {
      "cell_type": "markdown",
      "metadata": {
        "id": "unTmpeZBbLg0"
      },
      "source": [
        "[Return to Top](#returnToTop)\n",
        "<a id = 'extractiveSummarization'></a>\n",
        "\n",
        "## 2. SumBasic Extractive Summarization\n",
        "\n",
        "Let's run our extractive summarization example.  We'll use NLTK and a simple algorithm that relies on the frequency of words to identify sentences to extract and place in the summary.\n",
        "\n",
        "The advantage of these older counting approaches is that they can handle documents of arbitrary length and can easily run without a GPU."
      ]
    },
    {
      "cell_type": "code",
      "source": [
        "import string\n",
        "from nltk.tokenize import sent_tokenize, regexp_tokenize\n",
        "from nltk.stem import WordNetLemmatizer\n",
        "from nltk.corpus import stopwords\n",
        "from nltk.probability import FreqDist\n"
      ],
      "metadata": {
        "id": "pORm2-l9VxB0"
      },
      "execution_count": 5,
      "outputs": []
    },
    {
      "cell_type": "markdown",
      "metadata": {
        "id": "RGnjEX4cbLg2"
      },
      "source": [
        "Extractive summarization allows us to specify the size of the summary we want.  We will do it as a percentage of the size of the input.  Let's first grab a document to work with.  We'll grab the [Wikipedia article on natural language processing](https://en.wikipedia.org/wiki/Natural_language_processing) since it is long.  Under the hood the system is breaking the document into sentences and scoring those sentences by their relevance to the document according to the SumBasic algorithm.  As a result the summary is a set of sentences copied directly from the original.  Some algorithms presented the extracted sentences in score order while others present in the order in which they appeared in the original document.  Why do you think that might matter?"
      ]
    },
    {
      "cell_type": "code",
      "execution_count": 6,
      "metadata": {
        "id": "OHvwr7Qw0TXm"
      },
      "outputs": [],
      "source": [
        "import wikipedia\n",
        "from pprint import pprint\n",
        "\n",
        "\n",
        "# Get wiki content.\n",
        "wikisearch = wikipedia.page(\"Natural Language Processing\")\n",
        "wikicontent = wikisearch.content"
      ]
    },
    {
      "cell_type": "markdown",
      "source": [
        "First let's implement the SumBasic algorithm using some NLTK functions.  It's a very straightforward approach using probabilities to assign scores to each sentence and word and then pick the highest scoring sentences.  Those highest scoring sentences are extracted from the original and then printed as part of the summary.  The original paper (MSR-TR-2005-101) can be [found here](https://www.cs.bgu.ac.il/~elhadad/nlp09/sumbasic.pdf) as well as a [followup article by the same authors here](https://www.cis.upenn.edu/~nenkova/papers/ipm.pdf).  The idea is to try and score sentences for inclusion in the summary based primarily on word frequency.\n",
        "\n",
        "The basic algorithm is:\n",
        "\n",
        "1.   Compute the score of each word in the document by dividng the frequency of the word by the total number of words.\n",
        "2.   Compute the score of each sentence by computing the average score of its words\n",
        "3.   Select the highest scoring sentence that contains the highest scoring word and add to summary\n",
        "4.   For each word in the selected sentence, update its score by squaring the word score.  This makes words already in the summary score lower and sentences without those words score higher.\n",
        "5.   If summary not long enough, return to step 2 and recalculate sentence scores.\n",
        "\n",
        "The SumBasic algorithm is a computationally cheap way of creating an extractive summary of an arbitrarily long document.  Let's see what it looks like.\n",
        "\n",
        "\n"
      ],
      "metadata": {
        "id": "1d38LCO03Nbb"
      }
    },
    {
      "cell_type": "code",
      "source": [
        "#score the sentences and print the highest scoring sentence with the highest scoring word\n",
        "#keep repeating (with word score recalulation) until length is reached\n",
        "\n",
        "def sumbasic(lem_sentences, lem_words, size):\n",
        "\n",
        "    freq = FreqDist(lem_words)\n",
        "    total = sum(freq.values())\n",
        "    probs = {k: v/total for k, v in freq.items()}\n",
        "\n",
        "    len_summary = int(size * len(lem_sentences))    #calculate number of sentences to put in the summary\n",
        "\n",
        "    summary = []\n",
        "\n",
        "    for _ in range(len_summary):\n",
        "\n",
        "        scores = {k: [] for k in lem_sentences}\n",
        "        importance = {k: 0 for k in scores}\n",
        "        for key, value in lem_sentences.items():               #recalulate the sentence scores\n",
        "            for word in value:\n",
        "                scores[key].append(probs[word])\n",
        "            importance[key] = sum(scores[key]) / len(scores[key])\n",
        "\n",
        "        most_importance_sentence = max(scores, key=scores.get)  #pull out the most important sentence\n",
        "        summary.append(most_importance_sentence)\n",
        "\n",
        "        for word in lem_sentences[most_importance_sentence]:    #recalculate word scores\n",
        "            probs[word] = probs[word] * probs[word]\n",
        "\n",
        "    for sentence in lem_sentences:\n",
        "        if sentence in summary:\n",
        "            pprint(sentence, compact=True)\n"
      ],
      "metadata": {
        "id": "V7rDfULL9jye"
      },
      "execution_count": 7,
      "outputs": []
    },
    {
      "cell_type": "markdown",
      "source": [
        "Now let's run the SumBasic function now with the Wikipedia page on NLP and lets ask for a summary that is 5% of the original."
      ],
      "metadata": {
        "id": "ByUGQ8N0G6q5"
      }
    },
    {
      "cell_type": "code",
      "source": [
        "#get the wiki article and break it first into sentences using NLTK's sent_tokenize\n",
        "all_sentences = sent_tokenize(wikicontent)\n",
        "\n",
        "#Let's walk through each of these sentences so we can divide into tokens (e.g. words)\n",
        "word_tokens = []\n",
        "sentence_tokens = {sentence: [] for sentence in all_sentences}\n",
        "\n",
        "for one_sentence in all_sentences:\n",
        "    for token in regexp_tokenize(one_sentence.lower(), '\\w+'):  #divide the sentences into tokens based on the regex for whitespace\n",
        "        if token not in string.punctuation:                     #ignore punctuation\n",
        "            if token not in stopwords.words('english'):         #ignore stopwords\n",
        "                word_tokens.append(token)\n",
        "                sentence_tokens[one_sentence].append(token)\n",
        "\n",
        "#A lemmatizer takes conjugated verbs and returns their infinitive form (e.g. conjugating -> conjugate)\n",
        "#It does the same thing with nouns taking the plural form and returning the singular form.\n",
        "#We're doing this because we want to count up occurences of word roots to get a tighter distribution\n",
        "lem = WordNetLemmatizer()\n",
        "lem_words = [lem.lemmatize(word) for word in word_tokens]\n",
        "lem_sentences = {sentence: [lem.lemmatize(word) for word in sentence_tokens[sentence]] for sentence in sentence_tokens}\n",
        "\n",
        "#Now we have a list of lemmatized words and a list of sentences containing lemmatized words\n",
        "#we pass them to the sumbasic fiunction along with a size parameter\n",
        "#We'll also pass a summary size as a percentage of the sentences in the original document\n",
        "sumbasic(lem_sentences, lem_words, 0.05)\n"
      ],
      "metadata": {
        "colab": {
          "base_uri": "https://localhost:8080/"
        },
        "id": "yLYOnQWx3Gq3",
        "outputId": "5c1f0b41-610a-4b46-8269-91faa9064866"
      },
      "execution_count": 8,
      "outputs": [
        {
          "output_type": "stream",
          "name": "stdout",
          "text": [
            "('== Approaches: Symbolic, statistical, neural networks ==\\n'\n",
            " 'Symbolic approach, i.e., the hand-coding of a set of rules for manipulating '\n",
            " 'symbols, coupled with a dictionary lookup, was historically the first '\n",
            " 'approach used both by AI in general and by NLP in particular: such as by '\n",
            " 'writing grammars or devising heuristic rules for stemming.')\n",
            "('Machine learning approaches, which include both statistical and neural '\n",
            " 'networks, on the other hand, have many advantages over the symbolic '\n",
            " 'approach: \\n'\n",
            " '\\n'\n",
            " 'both statistical and neural networks methods can focus more on the most '\n",
            " 'common cases extracted from a corpus of texts, whereas the rule-based '\n",
            " 'approach needs to provide rules for both rare cases and common ones equally.')\n",
            "('language models, produced by either statistical or neural networks methods, '\n",
            " 'are more robust to both unfamiliar (e.g.')\n",
            "('Some of these tasks have direct real-world applications, while others more '\n",
            " 'commonly serve as subtasks that are used to aid in solving larger tasks.')\n",
            "('In natural speech there are hardly any pauses between successive words, and '\n",
            " 'thus speech segmentation is a necessary subtask of speech recognition (see '\n",
            " 'below).')\n",
            "('Word segmentation (Tokenization)\\n'\n",
            " 'Tokenization is a process used in text analysis that divides text into '\n",
            " 'individual words or word fragments.')\n",
            "('Sentence boundaries are often marked by periods or other punctuation marks, '\n",
            " 'but these same characters can serve other purposes (e.g., marking '\n",
            " 'abbreviations).')\n",
            "('Semantic parsing\\n'\n",
            " 'Given a piece of text (typically a sentence), produce a formal '\n",
            " 'representation of its semantics, either as a graph (e.g., in AMR parsing) or '\n",
            " 'in accordance with a logical formalism (e.g., in DRT parsing).')\n",
            "('NLP-powered Document AI enables non-technical teams to quickly access '\n",
            " 'information hidden in documents, for example, lawyers, business analysts and '\n",
            " 'accountants.')\n"
          ]
        }
      ]
    },
    {
      "cell_type": "markdown",
      "metadata": {
        "id": "C-uhdR0oz_ge"
      },
      "source": [
        "[Return to Top](#returnToTop)\n",
        "<a id = 'abstractiveSummarization'></a>\n",
        "\n",
        "## 3. Abstractive summarization with T5\n",
        "\n",
        "Let's set up our environment to run the Hugging Face version of T5 and feed it a small snippet of text to see what kind of summary it produces.  Note that we could not feed the entire Wikipedia article we used above into T5."
      ]
    },
    {
      "cell_type": "code",
      "execution_count": 9,
      "metadata": {
        "id": "a5T3hjU60VRe"
      },
      "outputs": [],
      "source": [
        "import tensorflow as tf"
      ]
    },
    {
      "cell_type": "code",
      "execution_count": 10,
      "metadata": {
        "id": "qMUH5Xsj0VLN"
      },
      "outputs": [],
      "source": [
        "from transformers import T5Tokenizer, TFT5Model, TFT5ForConditionalGeneration"
      ]
    },
    {
      "cell_type": "markdown",
      "metadata": {
        "id": "9nzpCG4QbLg7"
      },
      "source": [
        "Here's the text that we'll summarize."
      ]
    },
    {
      "cell_type": "code",
      "execution_count": 11,
      "metadata": {
        "id": "y7N0FrSK0VAj"
      },
      "outputs": [],
      "source": [
        "WARTICLE_TO_SUMMARIZE = (\"A neutron star is the collapsed core of a massive supergiant star, which had a total mass of \\\n",
        "            between 10 and 25 solar masses, possibly more if the star was especially metal-rich. Except for black holes, \\\n",
        "            and some hypothetical objects (e.g. white holes, quark stars, and strange stars), neutron stars are the smallest \\\n",
        "            and densest currently known class of stellar objects.\")"
      ]
    },
    {
      "cell_type": "code",
      "execution_count": 12,
      "metadata": {
        "colab": {
          "base_uri": "https://localhost:8080/",
          "height": 522,
          "referenced_widgets": [
            "8af8cfa434734a4a9a9dc8bcf25da64f",
            "8b98996703dd4ead9a3e264989f704f7",
            "4eb6176a122a4c22a858aa42bf40f08b",
            "46d6018f5cf845aa93c906c0efd53f72",
            "e19c5e76e0bf4b81b0b7bb9fd8170eb4",
            "aa11eb12358549719297dc40aff6917f",
            "6c0b27fd3bdd4b59bc4ee72360a79445",
            "e3aad8a4e3c445c4968524bf110965e3",
            "e5acd9054b704fc1b647fd514dc3f32a",
            "942867248887499cbb9eeace9d1fb34e",
            "189d191b52bd4dd1b0e6d2b135615632",
            "4ee300c51596441c8bdf88290879426d",
            "e891a822d0bd4184aab2f37da3160bf0",
            "5c587d711de54dccb12719df0e94346f",
            "863713546cc34e55aa526a6977267783",
            "6fdc2342033e49b2ae3129619f49c4a3",
            "30b9ff43f0604a4f8d2c9d3f31af0d88",
            "653ef4dffdbf4e5ea4aca4397d21c756",
            "555e12573d8049e08b56d826fe58b0a1",
            "d960a07bf5f446679495c092aef65910",
            "822c98d916774965af65bdd70f9045bd",
            "71bee69fa2724ed4b8c878891a699384",
            "2a819f408f5c4f27a69506f46e287001",
            "f3a2428cae234c77a58eadce1bacf560",
            "5aae2b0f0f024a23aabc343d16f519be",
            "b341148f72e24ceb849f5695412b450a",
            "48b9a4a73bac42e09190cb7fcfe0f49f",
            "d90a458d138b448bada1c666607992e9",
            "766f809a4a814526956d55f9756d30e8",
            "8a943ad49b9c4eaca39a7f37685df456",
            "7d1751a059c84530944462f96504dc8f",
            "f74fba2d1e764f49865a444474cff9cb",
            "05b838c257a54ff2a3d1bce655aa190a",
            "686453637853479f98fa272493771cc3",
            "3dcc4204f9d14228a372c97b966becfc",
            "2f0bdce8d5ca406981eb2784e31431d8",
            "c169ae539b584a3bac06d812c373fcf8",
            "8f7ef65e97144c978c62fe047d8318dd",
            "57d9b538586d4f74866ad843fcdda674",
            "b527a99d9bd541db9487bf232b0f1c99",
            "da13d3b2ab6448238adc9764d1885bd7",
            "082ec6cedefa4660992c93b3d4a1dbad",
            "3deadc88b9fd4d468804f0230aabc056",
            "592707abfb274455968891cb36bc8db3"
          ]
        },
        "id": "Sf5QPJGm0U2a",
        "outputId": "d15a8e0e-234c-4540-b6be-4cfe6fcb64e3"
      },
      "outputs": [
        {
          "output_type": "display_data",
          "data": {
            "text/plain": [
              "config.json:   0%|          | 0.00/1.21k [00:00<?, ?B/s]"
            ],
            "application/vnd.jupyter.widget-view+json": {
              "version_major": 2,
              "version_minor": 0,
              "model_id": "8af8cfa434734a4a9a9dc8bcf25da64f"
            }
          },
          "metadata": {}
        },
        {
          "output_type": "display_data",
          "data": {
            "text/plain": [
              "model.safetensors:   0%|          | 0.00/892M [00:00<?, ?B/s]"
            ],
            "application/vnd.jupyter.widget-view+json": {
              "version_major": 2,
              "version_minor": 0,
              "model_id": "4ee300c51596441c8bdf88290879426d"
            }
          },
          "metadata": {}
        },
        {
          "output_type": "stream",
          "name": "stderr",
          "text": [
            "All PyTorch model weights were used when initializing TFT5ForConditionalGeneration.\n",
            "\n",
            "All the weights of TFT5ForConditionalGeneration were initialized from the PyTorch model.\n",
            "If your task is similar to the task the model of the checkpoint was trained on, you can already use TFT5ForConditionalGeneration for predictions without further training.\n"
          ]
        },
        {
          "output_type": "display_data",
          "data": {
            "text/plain": [
              "spiece.model:   0%|          | 0.00/792k [00:00<?, ?B/s]"
            ],
            "application/vnd.jupyter.widget-view+json": {
              "version_major": 2,
              "version_minor": 0,
              "model_id": "2a819f408f5c4f27a69506f46e287001"
            }
          },
          "metadata": {}
        },
        {
          "output_type": "display_data",
          "data": {
            "text/plain": [
              "tokenizer.json:   0%|          | 0.00/1.39M [00:00<?, ?B/s]"
            ],
            "application/vnd.jupyter.widget-view+json": {
              "version_major": 2,
              "version_minor": 0,
              "model_id": "686453637853479f98fa272493771cc3"
            }
          },
          "metadata": {}
        },
        {
          "output_type": "stream",
          "name": "stderr",
          "text": [
            "You are using the default legacy behaviour of the <class 'transformers.models.t5.tokenization_t5.T5Tokenizer'>. This is expected, and simply means that the `legacy` (previous) behavior will be used so nothing changes for you. If you want to use the new behaviour, set `legacy=False`. This should only be set if you understand what it means, and thoroughly read the reason why this was added as explained in https://github.com/huggingface/transformers/pull/24565\n"
          ]
        },
        {
          "output_type": "stream",
          "name": "stdout",
          "text": [
            "Model: \"tft5_for_conditional_generation\"\n",
            "_________________________________________________________________\n",
            " Layer (type)                Output Shape              Param #   \n",
            "=================================================================\n",
            " shared (Embedding)          multiple                  24674304  \n",
            "                                                                 \n",
            " encoder (TFT5MainLayer)     multiple                  109628544 \n",
            "                                                                 \n",
            " decoder (TFT5MainLayer)     multiple                  137949312 \n",
            "                                                                 \n",
            "=================================================================\n",
            "Total params: 222903552 (850.31 MB)\n",
            "Trainable params: 222903552 (850.31 MB)\n",
            "Non-trainable params: 0 (0.00 Byte)\n",
            "_________________________________________________________________\n"
          ]
        }
      ],
      "source": [
        "t5_model = TFT5ForConditionalGeneration.from_pretrained('t5-base') #also t5-small and t5-large\n",
        "t5_tokenizer = T5Tokenizer.from_pretrained('t5-base')\n",
        "\n",
        "t5_model.summary()"
      ]
    },
    {
      "cell_type": "markdown",
      "metadata": {
        "id": "w_WqdYm7bLg9"
      },
      "source": [
        "Don't forget to add the prompt to the begining of the article so T5 knows what we are asking it to do."
      ]
    },
    {
      "cell_type": "code",
      "execution_count": 13,
      "metadata": {
        "id": "jWdPetvc3tm_"
      },
      "outputs": [],
      "source": [
        "t5_input_text = \"summarize: \" + WARTICLE_TO_SUMMARIZE"
      ]
    },
    {
      "cell_type": "code",
      "execution_count": 14,
      "metadata": {
        "id": "839JTWPX3tbp"
      },
      "outputs": [],
      "source": [
        "t5_inputs = t5_tokenizer([t5_input_text], return_tensors='tf')"
      ]
    },
    {
      "cell_type": "markdown",
      "metadata": {
        "id": "cjY3c3kIbLg9"
      },
      "source": [
        "Here's the output.  The sentence is quite fluid.  How faithful to you think it is?"
      ]
    },
    {
      "cell_type": "code",
      "execution_count": 15,
      "metadata": {
        "colab": {
          "base_uri": "https://localhost:8080/"
        },
        "id": "xirurxbm3tMc",
        "outputId": "7e06b7b2-633e-41b3-b913-30623b112352"
      },
      "outputs": [
        {
          "output_type": "stream",
          "name": "stdout",
          "text": [
            "['a neutron star is the collapsed core of a massive supergiant star . neutron stars are the smallest and densest currently known class']\n"
          ]
        }
      ],
      "source": [
        "t5_summary_ids = t5_model.generate(t5_inputs['input_ids'],\n",
        "                                    num_beams=3,\n",
        "                                    no_repeat_ngram_size=3,\n",
        "                                    min_length=15,\n",
        "                                    max_length=35)\n",
        "\n",
        "print([t5_tokenizer.decode(g, skip_special_tokens=True,\n",
        "                           clean_up_tokenization_spaces=False) for g in t5_summary_ids])"
      ]
    },
    {
      "cell_type": "markdown",
      "metadata": {
        "id": "gJ_mCsHo0GrS"
      },
      "source": [
        "[Return to Top](#returnToTop)\n",
        "<a id = 'extractiveQA'></a>\n",
        "\n",
        "## 4. Extractive question answering with T5\n",
        "\n",
        "Now let's look at an extractive question answering example.  We'll need to feed the model a context paragraph and a question.  The T5 model was pre-trained on the SQUAD dataset so it knows how to identify and extract the answer span. Note that we already have the prompt in the respective texts."
      ]
    },
    {
      "cell_type": "code",
      "execution_count": 16,
      "metadata": {
        "id": "xE5ANINx0XM6"
      },
      "outputs": [],
      "source": [
        "t5_context_text = \"\"\"context: Hyperbaric (high-pressure) medicine uses special oxygen\n",
        "chambers to increase the partial pressure of O 2 around the patient and, when needed,\n",
        "the medical staff. Carbon monoxide poisoning, gas gangrene, and decompression sickness\n",
        "(the ’bends’) are sometimes treated using these devices. Increased O 2 concentration\n",
        "in the lungs helps to displace carbon monoxide from the heme group of hemoglobin.\n",
        "Oxygen gas is poisonous to the anaerobic bacteria that cause gas gangrene, so increasing\n",
        "its partial pressure helps kill them. Decompression sickness occurs in divers who\n",
        "decompress too quickly after a dive, resulting in bubbles of inert gas, mostly nitrogen\n",
        "and helium, forming in their blood. Increasing the pressure of O 2 as soon as possible\n",
        "is part of the treatment.\"\"\""
      ]
    },
    {
      "cell_type": "code",
      "execution_count": 17,
      "metadata": {
        "id": "dUkH1xrl0XQE"
      },
      "outputs": [],
      "source": [
        "t5_question_text = \"\"\"question: What does increased oxygen concentrations in the patient’s\n",
        "lungs displace? \"\"\""
      ]
    },
    {
      "cell_type": "code",
      "execution_count": 18,
      "metadata": {
        "id": "d7KSOnfm0XJO"
      },
      "outputs": [],
      "source": [
        "t5_qa_input_text = t5_question_text + t5_context_text"
      ]
    },
    {
      "cell_type": "markdown",
      "metadata": {
        "id": "uCi0yvlqbLhA"
      },
      "source": [
        "Now let's run T5 and see how well it answers our question.  What do you think?"
      ]
    },
    {
      "cell_type": "code",
      "execution_count": 19,
      "metadata": {
        "colab": {
          "base_uri": "https://localhost:8080/"
        },
        "id": "X8XW3u6T0XGB",
        "outputId": "2dcd7d8d-f15a-49c6-86c5-64a5b107b11b"
      },
      "outputs": [
        {
          "output_type": "stream",
          "name": "stderr",
          "text": [
            "/usr/local/lib/python3.11/dist-packages/transformers/generation/tf_utils.py:836: UserWarning: Using the model-agnostic default `max_length` (=20) to control the generation length.  recommend setting `max_new_tokens` to control the maximum length of the generation.\n",
            "  warnings.warn(\n"
          ]
        },
        {
          "output_type": "stream",
          "name": "stdout",
          "text": [
            "['carbon monoxide']\n"
          ]
        }
      ],
      "source": [
        "t5_inputs = t5_tokenizer([t5_qa_input_text], return_tensors='tf')\n",
        "\n",
        "t5_summary_ids = t5_model.generate(t5_inputs['input_ids'])\n",
        "\n",
        "print([t5_tokenizer.decode(g, skip_special_tokens=True,\n",
        "                           clean_up_tokenization_spaces=False) for g in t5_summary_ids])"
      ]
    }
  ],
  "metadata": {
    "colab": {
      "provenance": []
    },
    "kernelspec": {
      "display_name": "Python 3",
      "name": "python3"
    },
    "language_info": {
      "codemirror_mode": {
        "name": "ipython",
        "version": 3
      },
      "file_extension": ".py",
      "mimetype": "text/x-python",
      "name": "python",
      "nbconvert_exporter": "python",
      "pygments_lexer": "ipython3",
      "version": "3.8.5"
    },
    "widgets": {
      "application/vnd.jupyter.widget-state+json": {
        "8af8cfa434734a4a9a9dc8bcf25da64f": {
          "model_module": "@jupyter-widgets/controls",
          "model_name": "HBoxModel",
          "model_module_version": "1.5.0",
          "state": {
            "_dom_classes": [],
            "_model_module": "@jupyter-widgets/controls",
            "_model_module_version": "1.5.0",
            "_model_name": "HBoxModel",
            "_view_count": null,
            "_view_module": "@jupyter-widgets/controls",
            "_view_module_version": "1.5.0",
            "_view_name": "HBoxView",
            "box_style": "",
            "children": [
              "IPY_MODEL_8b98996703dd4ead9a3e264989f704f7",
              "IPY_MODEL_4eb6176a122a4c22a858aa42bf40f08b",
              "IPY_MODEL_46d6018f5cf845aa93c906c0efd53f72"
            ],
            "layout": "IPY_MODEL_e19c5e76e0bf4b81b0b7bb9fd8170eb4"
          }
        },
        "8b98996703dd4ead9a3e264989f704f7": {
          "model_module": "@jupyter-widgets/controls",
          "model_name": "HTMLModel",
          "model_module_version": "1.5.0",
          "state": {
            "_dom_classes": [],
            "_model_module": "@jupyter-widgets/controls",
            "_model_module_version": "1.5.0",
            "_model_name": "HTMLModel",
            "_view_count": null,
            "_view_module": "@jupyter-widgets/controls",
            "_view_module_version": "1.5.0",
            "_view_name": "HTMLView",
            "description": "",
            "description_tooltip": null,
            "layout": "IPY_MODEL_aa11eb12358549719297dc40aff6917f",
            "placeholder": "​",
            "style": "IPY_MODEL_6c0b27fd3bdd4b59bc4ee72360a79445",
            "value": "config.json: 100%"
          }
        },
        "4eb6176a122a4c22a858aa42bf40f08b": {
          "model_module": "@jupyter-widgets/controls",
          "model_name": "FloatProgressModel",
          "model_module_version": "1.5.0",
          "state": {
            "_dom_classes": [],
            "_model_module": "@jupyter-widgets/controls",
            "_model_module_version": "1.5.0",
            "_model_name": "FloatProgressModel",
            "_view_count": null,
            "_view_module": "@jupyter-widgets/controls",
            "_view_module_version": "1.5.0",
            "_view_name": "ProgressView",
            "bar_style": "success",
            "description": "",
            "description_tooltip": null,
            "layout": "IPY_MODEL_e3aad8a4e3c445c4968524bf110965e3",
            "max": 1208,
            "min": 0,
            "orientation": "horizontal",
            "style": "IPY_MODEL_e5acd9054b704fc1b647fd514dc3f32a",
            "value": 1208
          }
        },
        "46d6018f5cf845aa93c906c0efd53f72": {
          "model_module": "@jupyter-widgets/controls",
          "model_name": "HTMLModel",
          "model_module_version": "1.5.0",
          "state": {
            "_dom_classes": [],
            "_model_module": "@jupyter-widgets/controls",
            "_model_module_version": "1.5.0",
            "_model_name": "HTMLModel",
            "_view_count": null,
            "_view_module": "@jupyter-widgets/controls",
            "_view_module_version": "1.5.0",
            "_view_name": "HTMLView",
            "description": "",
            "description_tooltip": null,
            "layout": "IPY_MODEL_942867248887499cbb9eeace9d1fb34e",
            "placeholder": "​",
            "style": "IPY_MODEL_189d191b52bd4dd1b0e6d2b135615632",
            "value": " 1.21k/1.21k [00:00&lt;00:00, 38.3kB/s]"
          }
        },
        "e19c5e76e0bf4b81b0b7bb9fd8170eb4": {
          "model_module": "@jupyter-widgets/base",
          "model_name": "LayoutModel",
          "model_module_version": "1.2.0",
          "state": {
            "_model_module": "@jupyter-widgets/base",
            "_model_module_version": "1.2.0",
            "_model_name": "LayoutModel",
            "_view_count": null,
            "_view_module": "@jupyter-widgets/base",
            "_view_module_version": "1.2.0",
            "_view_name": "LayoutView",
            "align_content": null,
            "align_items": null,
            "align_self": null,
            "border": null,
            "bottom": null,
            "display": null,
            "flex": null,
            "flex_flow": null,
            "grid_area": null,
            "grid_auto_columns": null,
            "grid_auto_flow": null,
            "grid_auto_rows": null,
            "grid_column": null,
            "grid_gap": null,
            "grid_row": null,
            "grid_template_areas": null,
            "grid_template_columns": null,
            "grid_template_rows": null,
            "height": null,
            "justify_content": null,
            "justify_items": null,
            "left": null,
            "margin": null,
            "max_height": null,
            "max_width": null,
            "min_height": null,
            "min_width": null,
            "object_fit": null,
            "object_position": null,
            "order": null,
            "overflow": null,
            "overflow_x": null,
            "overflow_y": null,
            "padding": null,
            "right": null,
            "top": null,
            "visibility": null,
            "width": null
          }
        },
        "aa11eb12358549719297dc40aff6917f": {
          "model_module": "@jupyter-widgets/base",
          "model_name": "LayoutModel",
          "model_module_version": "1.2.0",
          "state": {
            "_model_module": "@jupyter-widgets/base",
            "_model_module_version": "1.2.0",
            "_model_name": "LayoutModel",
            "_view_count": null,
            "_view_module": "@jupyter-widgets/base",
            "_view_module_version": "1.2.0",
            "_view_name": "LayoutView",
            "align_content": null,
            "align_items": null,
            "align_self": null,
            "border": null,
            "bottom": null,
            "display": null,
            "flex": null,
            "flex_flow": null,
            "grid_area": null,
            "grid_auto_columns": null,
            "grid_auto_flow": null,
            "grid_auto_rows": null,
            "grid_column": null,
            "grid_gap": null,
            "grid_row": null,
            "grid_template_areas": null,
            "grid_template_columns": null,
            "grid_template_rows": null,
            "height": null,
            "justify_content": null,
            "justify_items": null,
            "left": null,
            "margin": null,
            "max_height": null,
            "max_width": null,
            "min_height": null,
            "min_width": null,
            "object_fit": null,
            "object_position": null,
            "order": null,
            "overflow": null,
            "overflow_x": null,
            "overflow_y": null,
            "padding": null,
            "right": null,
            "top": null,
            "visibility": null,
            "width": null
          }
        },
        "6c0b27fd3bdd4b59bc4ee72360a79445": {
          "model_module": "@jupyter-widgets/controls",
          "model_name": "DescriptionStyleModel",
          "model_module_version": "1.5.0",
          "state": {
            "_model_module": "@jupyter-widgets/controls",
            "_model_module_version": "1.5.0",
            "_model_name": "DescriptionStyleModel",
            "_view_count": null,
            "_view_module": "@jupyter-widgets/base",
            "_view_module_version": "1.2.0",
            "_view_name": "StyleView",
            "description_width": ""
          }
        },
        "e3aad8a4e3c445c4968524bf110965e3": {
          "model_module": "@jupyter-widgets/base",
          "model_name": "LayoutModel",
          "model_module_version": "1.2.0",
          "state": {
            "_model_module": "@jupyter-widgets/base",
            "_model_module_version": "1.2.0",
            "_model_name": "LayoutModel",
            "_view_count": null,
            "_view_module": "@jupyter-widgets/base",
            "_view_module_version": "1.2.0",
            "_view_name": "LayoutView",
            "align_content": null,
            "align_items": null,
            "align_self": null,
            "border": null,
            "bottom": null,
            "display": null,
            "flex": null,
            "flex_flow": null,
            "grid_area": null,
            "grid_auto_columns": null,
            "grid_auto_flow": null,
            "grid_auto_rows": null,
            "grid_column": null,
            "grid_gap": null,
            "grid_row": null,
            "grid_template_areas": null,
            "grid_template_columns": null,
            "grid_template_rows": null,
            "height": null,
            "justify_content": null,
            "justify_items": null,
            "left": null,
            "margin": null,
            "max_height": null,
            "max_width": null,
            "min_height": null,
            "min_width": null,
            "object_fit": null,
            "object_position": null,
            "order": null,
            "overflow": null,
            "overflow_x": null,
            "overflow_y": null,
            "padding": null,
            "right": null,
            "top": null,
            "visibility": null,
            "width": null
          }
        },
        "e5acd9054b704fc1b647fd514dc3f32a": {
          "model_module": "@jupyter-widgets/controls",
          "model_name": "ProgressStyleModel",
          "model_module_version": "1.5.0",
          "state": {
            "_model_module": "@jupyter-widgets/controls",
            "_model_module_version": "1.5.0",
            "_model_name": "ProgressStyleModel",
            "_view_count": null,
            "_view_module": "@jupyter-widgets/base",
            "_view_module_version": "1.2.0",
            "_view_name": "StyleView",
            "bar_color": null,
            "description_width": ""
          }
        },
        "942867248887499cbb9eeace9d1fb34e": {
          "model_module": "@jupyter-widgets/base",
          "model_name": "LayoutModel",
          "model_module_version": "1.2.0",
          "state": {
            "_model_module": "@jupyter-widgets/base",
            "_model_module_version": "1.2.0",
            "_model_name": "LayoutModel",
            "_view_count": null,
            "_view_module": "@jupyter-widgets/base",
            "_view_module_version": "1.2.0",
            "_view_name": "LayoutView",
            "align_content": null,
            "align_items": null,
            "align_self": null,
            "border": null,
            "bottom": null,
            "display": null,
            "flex": null,
            "flex_flow": null,
            "grid_area": null,
            "grid_auto_columns": null,
            "grid_auto_flow": null,
            "grid_auto_rows": null,
            "grid_column": null,
            "grid_gap": null,
            "grid_row": null,
            "grid_template_areas": null,
            "grid_template_columns": null,
            "grid_template_rows": null,
            "height": null,
            "justify_content": null,
            "justify_items": null,
            "left": null,
            "margin": null,
            "max_height": null,
            "max_width": null,
            "min_height": null,
            "min_width": null,
            "object_fit": null,
            "object_position": null,
            "order": null,
            "overflow": null,
            "overflow_x": null,
            "overflow_y": null,
            "padding": null,
            "right": null,
            "top": null,
            "visibility": null,
            "width": null
          }
        },
        "189d191b52bd4dd1b0e6d2b135615632": {
          "model_module": "@jupyter-widgets/controls",
          "model_name": "DescriptionStyleModel",
          "model_module_version": "1.5.0",
          "state": {
            "_model_module": "@jupyter-widgets/controls",
            "_model_module_version": "1.5.0",
            "_model_name": "DescriptionStyleModel",
            "_view_count": null,
            "_view_module": "@jupyter-widgets/base",
            "_view_module_version": "1.2.0",
            "_view_name": "StyleView",
            "description_width": ""
          }
        },
        "4ee300c51596441c8bdf88290879426d": {
          "model_module": "@jupyter-widgets/controls",
          "model_name": "HBoxModel",
          "model_module_version": "1.5.0",
          "state": {
            "_dom_classes": [],
            "_model_module": "@jupyter-widgets/controls",
            "_model_module_version": "1.5.0",
            "_model_name": "HBoxModel",
            "_view_count": null,
            "_view_module": "@jupyter-widgets/controls",
            "_view_module_version": "1.5.0",
            "_view_name": "HBoxView",
            "box_style": "",
            "children": [
              "IPY_MODEL_e891a822d0bd4184aab2f37da3160bf0",
              "IPY_MODEL_5c587d711de54dccb12719df0e94346f",
              "IPY_MODEL_863713546cc34e55aa526a6977267783"
            ],
            "layout": "IPY_MODEL_6fdc2342033e49b2ae3129619f49c4a3"
          }
        },
        "e891a822d0bd4184aab2f37da3160bf0": {
          "model_module": "@jupyter-widgets/controls",
          "model_name": "HTMLModel",
          "model_module_version": "1.5.0",
          "state": {
            "_dom_classes": [],
            "_model_module": "@jupyter-widgets/controls",
            "_model_module_version": "1.5.0",
            "_model_name": "HTMLModel",
            "_view_count": null,
            "_view_module": "@jupyter-widgets/controls",
            "_view_module_version": "1.5.0",
            "_view_name": "HTMLView",
            "description": "",
            "description_tooltip": null,
            "layout": "IPY_MODEL_30b9ff43f0604a4f8d2c9d3f31af0d88",
            "placeholder": "​",
            "style": "IPY_MODEL_653ef4dffdbf4e5ea4aca4397d21c756",
            "value": "model.safetensors: 100%"
          }
        },
        "5c587d711de54dccb12719df0e94346f": {
          "model_module": "@jupyter-widgets/controls",
          "model_name": "FloatProgressModel",
          "model_module_version": "1.5.0",
          "state": {
            "_dom_classes": [],
            "_model_module": "@jupyter-widgets/controls",
            "_model_module_version": "1.5.0",
            "_model_name": "FloatProgressModel",
            "_view_count": null,
            "_view_module": "@jupyter-widgets/controls",
            "_view_module_version": "1.5.0",
            "_view_name": "ProgressView",
            "bar_style": "success",
            "description": "",
            "description_tooltip": null,
            "layout": "IPY_MODEL_555e12573d8049e08b56d826fe58b0a1",
            "max": 891646390,
            "min": 0,
            "orientation": "horizontal",
            "style": "IPY_MODEL_d960a07bf5f446679495c092aef65910",
            "value": 891646390
          }
        },
        "863713546cc34e55aa526a6977267783": {
          "model_module": "@jupyter-widgets/controls",
          "model_name": "HTMLModel",
          "model_module_version": "1.5.0",
          "state": {
            "_dom_classes": [],
            "_model_module": "@jupyter-widgets/controls",
            "_model_module_version": "1.5.0",
            "_model_name": "HTMLModel",
            "_view_count": null,
            "_view_module": "@jupyter-widgets/controls",
            "_view_module_version": "1.5.0",
            "_view_name": "HTMLView",
            "description": "",
            "description_tooltip": null,
            "layout": "IPY_MODEL_822c98d916774965af65bdd70f9045bd",
            "placeholder": "​",
            "style": "IPY_MODEL_71bee69fa2724ed4b8c878891a699384",
            "value": " 892M/892M [00:06&lt;00:00, 163MB/s]"
          }
        },
        "6fdc2342033e49b2ae3129619f49c4a3": {
          "model_module": "@jupyter-widgets/base",
          "model_name": "LayoutModel",
          "model_module_version": "1.2.0",
          "state": {
            "_model_module": "@jupyter-widgets/base",
            "_model_module_version": "1.2.0",
            "_model_name": "LayoutModel",
            "_view_count": null,
            "_view_module": "@jupyter-widgets/base",
            "_view_module_version": "1.2.0",
            "_view_name": "LayoutView",
            "align_content": null,
            "align_items": null,
            "align_self": null,
            "border": null,
            "bottom": null,
            "display": null,
            "flex": null,
            "flex_flow": null,
            "grid_area": null,
            "grid_auto_columns": null,
            "grid_auto_flow": null,
            "grid_auto_rows": null,
            "grid_column": null,
            "grid_gap": null,
            "grid_row": null,
            "grid_template_areas": null,
            "grid_template_columns": null,
            "grid_template_rows": null,
            "height": null,
            "justify_content": null,
            "justify_items": null,
            "left": null,
            "margin": null,
            "max_height": null,
            "max_width": null,
            "min_height": null,
            "min_width": null,
            "object_fit": null,
            "object_position": null,
            "order": null,
            "overflow": null,
            "overflow_x": null,
            "overflow_y": null,
            "padding": null,
            "right": null,
            "top": null,
            "visibility": null,
            "width": null
          }
        },
        "30b9ff43f0604a4f8d2c9d3f31af0d88": {
          "model_module": "@jupyter-widgets/base",
          "model_name": "LayoutModel",
          "model_module_version": "1.2.0",
          "state": {
            "_model_module": "@jupyter-widgets/base",
            "_model_module_version": "1.2.0",
            "_model_name": "LayoutModel",
            "_view_count": null,
            "_view_module": "@jupyter-widgets/base",
            "_view_module_version": "1.2.0",
            "_view_name": "LayoutView",
            "align_content": null,
            "align_items": null,
            "align_self": null,
            "border": null,
            "bottom": null,
            "display": null,
            "flex": null,
            "flex_flow": null,
            "grid_area": null,
            "grid_auto_columns": null,
            "grid_auto_flow": null,
            "grid_auto_rows": null,
            "grid_column": null,
            "grid_gap": null,
            "grid_row": null,
            "grid_template_areas": null,
            "grid_template_columns": null,
            "grid_template_rows": null,
            "height": null,
            "justify_content": null,
            "justify_items": null,
            "left": null,
            "margin": null,
            "max_height": null,
            "max_width": null,
            "min_height": null,
            "min_width": null,
            "object_fit": null,
            "object_position": null,
            "order": null,
            "overflow": null,
            "overflow_x": null,
            "overflow_y": null,
            "padding": null,
            "right": null,
            "top": null,
            "visibility": null,
            "width": null
          }
        },
        "653ef4dffdbf4e5ea4aca4397d21c756": {
          "model_module": "@jupyter-widgets/controls",
          "model_name": "DescriptionStyleModel",
          "model_module_version": "1.5.0",
          "state": {
            "_model_module": "@jupyter-widgets/controls",
            "_model_module_version": "1.5.0",
            "_model_name": "DescriptionStyleModel",
            "_view_count": null,
            "_view_module": "@jupyter-widgets/base",
            "_view_module_version": "1.2.0",
            "_view_name": "StyleView",
            "description_width": ""
          }
        },
        "555e12573d8049e08b56d826fe58b0a1": {
          "model_module": "@jupyter-widgets/base",
          "model_name": "LayoutModel",
          "model_module_version": "1.2.0",
          "state": {
            "_model_module": "@jupyter-widgets/base",
            "_model_module_version": "1.2.0",
            "_model_name": "LayoutModel",
            "_view_count": null,
            "_view_module": "@jupyter-widgets/base",
            "_view_module_version": "1.2.0",
            "_view_name": "LayoutView",
            "align_content": null,
            "align_items": null,
            "align_self": null,
            "border": null,
            "bottom": null,
            "display": null,
            "flex": null,
            "flex_flow": null,
            "grid_area": null,
            "grid_auto_columns": null,
            "grid_auto_flow": null,
            "grid_auto_rows": null,
            "grid_column": null,
            "grid_gap": null,
            "grid_row": null,
            "grid_template_areas": null,
            "grid_template_columns": null,
            "grid_template_rows": null,
            "height": null,
            "justify_content": null,
            "justify_items": null,
            "left": null,
            "margin": null,
            "max_height": null,
            "max_width": null,
            "min_height": null,
            "min_width": null,
            "object_fit": null,
            "object_position": null,
            "order": null,
            "overflow": null,
            "overflow_x": null,
            "overflow_y": null,
            "padding": null,
            "right": null,
            "top": null,
            "visibility": null,
            "width": null
          }
        },
        "d960a07bf5f446679495c092aef65910": {
          "model_module": "@jupyter-widgets/controls",
          "model_name": "ProgressStyleModel",
          "model_module_version": "1.5.0",
          "state": {
            "_model_module": "@jupyter-widgets/controls",
            "_model_module_version": "1.5.0",
            "_model_name": "ProgressStyleModel",
            "_view_count": null,
            "_view_module": "@jupyter-widgets/base",
            "_view_module_version": "1.2.0",
            "_view_name": "StyleView",
            "bar_color": null,
            "description_width": ""
          }
        },
        "822c98d916774965af65bdd70f9045bd": {
          "model_module": "@jupyter-widgets/base",
          "model_name": "LayoutModel",
          "model_module_version": "1.2.0",
          "state": {
            "_model_module": "@jupyter-widgets/base",
            "_model_module_version": "1.2.0",
            "_model_name": "LayoutModel",
            "_view_count": null,
            "_view_module": "@jupyter-widgets/base",
            "_view_module_version": "1.2.0",
            "_view_name": "LayoutView",
            "align_content": null,
            "align_items": null,
            "align_self": null,
            "border": null,
            "bottom": null,
            "display": null,
            "flex": null,
            "flex_flow": null,
            "grid_area": null,
            "grid_auto_columns": null,
            "grid_auto_flow": null,
            "grid_auto_rows": null,
            "grid_column": null,
            "grid_gap": null,
            "grid_row": null,
            "grid_template_areas": null,
            "grid_template_columns": null,
            "grid_template_rows": null,
            "height": null,
            "justify_content": null,
            "justify_items": null,
            "left": null,
            "margin": null,
            "max_height": null,
            "max_width": null,
            "min_height": null,
            "min_width": null,
            "object_fit": null,
            "object_position": null,
            "order": null,
            "overflow": null,
            "overflow_x": null,
            "overflow_y": null,
            "padding": null,
            "right": null,
            "top": null,
            "visibility": null,
            "width": null
          }
        },
        "71bee69fa2724ed4b8c878891a699384": {
          "model_module": "@jupyter-widgets/controls",
          "model_name": "DescriptionStyleModel",
          "model_module_version": "1.5.0",
          "state": {
            "_model_module": "@jupyter-widgets/controls",
            "_model_module_version": "1.5.0",
            "_model_name": "DescriptionStyleModel",
            "_view_count": null,
            "_view_module": "@jupyter-widgets/base",
            "_view_module_version": "1.2.0",
            "_view_name": "StyleView",
            "description_width": ""
          }
        },
        "2a819f408f5c4f27a69506f46e287001": {
          "model_module": "@jupyter-widgets/controls",
          "model_name": "HBoxModel",
          "model_module_version": "1.5.0",
          "state": {
            "_dom_classes": [],
            "_model_module": "@jupyter-widgets/controls",
            "_model_module_version": "1.5.0",
            "_model_name": "HBoxModel",
            "_view_count": null,
            "_view_module": "@jupyter-widgets/controls",
            "_view_module_version": "1.5.0",
            "_view_name": "HBoxView",
            "box_style": "",
            "children": [
              "IPY_MODEL_f3a2428cae234c77a58eadce1bacf560",
              "IPY_MODEL_5aae2b0f0f024a23aabc343d16f519be",
              "IPY_MODEL_b341148f72e24ceb849f5695412b450a"
            ],
            "layout": "IPY_MODEL_48b9a4a73bac42e09190cb7fcfe0f49f"
          }
        },
        "f3a2428cae234c77a58eadce1bacf560": {
          "model_module": "@jupyter-widgets/controls",
          "model_name": "HTMLModel",
          "model_module_version": "1.5.0",
          "state": {
            "_dom_classes": [],
            "_model_module": "@jupyter-widgets/controls",
            "_model_module_version": "1.5.0",
            "_model_name": "HTMLModel",
            "_view_count": null,
            "_view_module": "@jupyter-widgets/controls",
            "_view_module_version": "1.5.0",
            "_view_name": "HTMLView",
            "description": "",
            "description_tooltip": null,
            "layout": "IPY_MODEL_d90a458d138b448bada1c666607992e9",
            "placeholder": "​",
            "style": "IPY_MODEL_766f809a4a814526956d55f9756d30e8",
            "value": "spiece.model: 100%"
          }
        },
        "5aae2b0f0f024a23aabc343d16f519be": {
          "model_module": "@jupyter-widgets/controls",
          "model_name": "FloatProgressModel",
          "model_module_version": "1.5.0",
          "state": {
            "_dom_classes": [],
            "_model_module": "@jupyter-widgets/controls",
            "_model_module_version": "1.5.0",
            "_model_name": "FloatProgressModel",
            "_view_count": null,
            "_view_module": "@jupyter-widgets/controls",
            "_view_module_version": "1.5.0",
            "_view_name": "ProgressView",
            "bar_style": "success",
            "description": "",
            "description_tooltip": null,
            "layout": "IPY_MODEL_8a943ad49b9c4eaca39a7f37685df456",
            "max": 791656,
            "min": 0,
            "orientation": "horizontal",
            "style": "IPY_MODEL_7d1751a059c84530944462f96504dc8f",
            "value": 791656
          }
        },
        "b341148f72e24ceb849f5695412b450a": {
          "model_module": "@jupyter-widgets/controls",
          "model_name": "HTMLModel",
          "model_module_version": "1.5.0",
          "state": {
            "_dom_classes": [],
            "_model_module": "@jupyter-widgets/controls",
            "_model_module_version": "1.5.0",
            "_model_name": "HTMLModel",
            "_view_count": null,
            "_view_module": "@jupyter-widgets/controls",
            "_view_module_version": "1.5.0",
            "_view_name": "HTMLView",
            "description": "",
            "description_tooltip": null,
            "layout": "IPY_MODEL_f74fba2d1e764f49865a444474cff9cb",
            "placeholder": "​",
            "style": "IPY_MODEL_05b838c257a54ff2a3d1bce655aa190a",
            "value": " 792k/792k [00:00&lt;00:00, 1.49MB/s]"
          }
        },
        "48b9a4a73bac42e09190cb7fcfe0f49f": {
          "model_module": "@jupyter-widgets/base",
          "model_name": "LayoutModel",
          "model_module_version": "1.2.0",
          "state": {
            "_model_module": "@jupyter-widgets/base",
            "_model_module_version": "1.2.0",
            "_model_name": "LayoutModel",
            "_view_count": null,
            "_view_module": "@jupyter-widgets/base",
            "_view_module_version": "1.2.0",
            "_view_name": "LayoutView",
            "align_content": null,
            "align_items": null,
            "align_self": null,
            "border": null,
            "bottom": null,
            "display": null,
            "flex": null,
            "flex_flow": null,
            "grid_area": null,
            "grid_auto_columns": null,
            "grid_auto_flow": null,
            "grid_auto_rows": null,
            "grid_column": null,
            "grid_gap": null,
            "grid_row": null,
            "grid_template_areas": null,
            "grid_template_columns": null,
            "grid_template_rows": null,
            "height": null,
            "justify_content": null,
            "justify_items": null,
            "left": null,
            "margin": null,
            "max_height": null,
            "max_width": null,
            "min_height": null,
            "min_width": null,
            "object_fit": null,
            "object_position": null,
            "order": null,
            "overflow": null,
            "overflow_x": null,
            "overflow_y": null,
            "padding": null,
            "right": null,
            "top": null,
            "visibility": null,
            "width": null
          }
        },
        "d90a458d138b448bada1c666607992e9": {
          "model_module": "@jupyter-widgets/base",
          "model_name": "LayoutModel",
          "model_module_version": "1.2.0",
          "state": {
            "_model_module": "@jupyter-widgets/base",
            "_model_module_version": "1.2.0",
            "_model_name": "LayoutModel",
            "_view_count": null,
            "_view_module": "@jupyter-widgets/base",
            "_view_module_version": "1.2.0",
            "_view_name": "LayoutView",
            "align_content": null,
            "align_items": null,
            "align_self": null,
            "border": null,
            "bottom": null,
            "display": null,
            "flex": null,
            "flex_flow": null,
            "grid_area": null,
            "grid_auto_columns": null,
            "grid_auto_flow": null,
            "grid_auto_rows": null,
            "grid_column": null,
            "grid_gap": null,
            "grid_row": null,
            "grid_template_areas": null,
            "grid_template_columns": null,
            "grid_template_rows": null,
            "height": null,
            "justify_content": null,
            "justify_items": null,
            "left": null,
            "margin": null,
            "max_height": null,
            "max_width": null,
            "min_height": null,
            "min_width": null,
            "object_fit": null,
            "object_position": null,
            "order": null,
            "overflow": null,
            "overflow_x": null,
            "overflow_y": null,
            "padding": null,
            "right": null,
            "top": null,
            "visibility": null,
            "width": null
          }
        },
        "766f809a4a814526956d55f9756d30e8": {
          "model_module": "@jupyter-widgets/controls",
          "model_name": "DescriptionStyleModel",
          "model_module_version": "1.5.0",
          "state": {
            "_model_module": "@jupyter-widgets/controls",
            "_model_module_version": "1.5.0",
            "_model_name": "DescriptionStyleModel",
            "_view_count": null,
            "_view_module": "@jupyter-widgets/base",
            "_view_module_version": "1.2.0",
            "_view_name": "StyleView",
            "description_width": ""
          }
        },
        "8a943ad49b9c4eaca39a7f37685df456": {
          "model_module": "@jupyter-widgets/base",
          "model_name": "LayoutModel",
          "model_module_version": "1.2.0",
          "state": {
            "_model_module": "@jupyter-widgets/base",
            "_model_module_version": "1.2.0",
            "_model_name": "LayoutModel",
            "_view_count": null,
            "_view_module": "@jupyter-widgets/base",
            "_view_module_version": "1.2.0",
            "_view_name": "LayoutView",
            "align_content": null,
            "align_items": null,
            "align_self": null,
            "border": null,
            "bottom": null,
            "display": null,
            "flex": null,
            "flex_flow": null,
            "grid_area": null,
            "grid_auto_columns": null,
            "grid_auto_flow": null,
            "grid_auto_rows": null,
            "grid_column": null,
            "grid_gap": null,
            "grid_row": null,
            "grid_template_areas": null,
            "grid_template_columns": null,
            "grid_template_rows": null,
            "height": null,
            "justify_content": null,
            "justify_items": null,
            "left": null,
            "margin": null,
            "max_height": null,
            "max_width": null,
            "min_height": null,
            "min_width": null,
            "object_fit": null,
            "object_position": null,
            "order": null,
            "overflow": null,
            "overflow_x": null,
            "overflow_y": null,
            "padding": null,
            "right": null,
            "top": null,
            "visibility": null,
            "width": null
          }
        },
        "7d1751a059c84530944462f96504dc8f": {
          "model_module": "@jupyter-widgets/controls",
          "model_name": "ProgressStyleModel",
          "model_module_version": "1.5.0",
          "state": {
            "_model_module": "@jupyter-widgets/controls",
            "_model_module_version": "1.5.0",
            "_model_name": "ProgressStyleModel",
            "_view_count": null,
            "_view_module": "@jupyter-widgets/base",
            "_view_module_version": "1.2.0",
            "_view_name": "StyleView",
            "bar_color": null,
            "description_width": ""
          }
        },
        "f74fba2d1e764f49865a444474cff9cb": {
          "model_module": "@jupyter-widgets/base",
          "model_name": "LayoutModel",
          "model_module_version": "1.2.0",
          "state": {
            "_model_module": "@jupyter-widgets/base",
            "_model_module_version": "1.2.0",
            "_model_name": "LayoutModel",
            "_view_count": null,
            "_view_module": "@jupyter-widgets/base",
            "_view_module_version": "1.2.0",
            "_view_name": "LayoutView",
            "align_content": null,
            "align_items": null,
            "align_self": null,
            "border": null,
            "bottom": null,
            "display": null,
            "flex": null,
            "flex_flow": null,
            "grid_area": null,
            "grid_auto_columns": null,
            "grid_auto_flow": null,
            "grid_auto_rows": null,
            "grid_column": null,
            "grid_gap": null,
            "grid_row": null,
            "grid_template_areas": null,
            "grid_template_columns": null,
            "grid_template_rows": null,
            "height": null,
            "justify_content": null,
            "justify_items": null,
            "left": null,
            "margin": null,
            "max_height": null,
            "max_width": null,
            "min_height": null,
            "min_width": null,
            "object_fit": null,
            "object_position": null,
            "order": null,
            "overflow": null,
            "overflow_x": null,
            "overflow_y": null,
            "padding": null,
            "right": null,
            "top": null,
            "visibility": null,
            "width": null
          }
        },
        "05b838c257a54ff2a3d1bce655aa190a": {
          "model_module": "@jupyter-widgets/controls",
          "model_name": "DescriptionStyleModel",
          "model_module_version": "1.5.0",
          "state": {
            "_model_module": "@jupyter-widgets/controls",
            "_model_module_version": "1.5.0",
            "_model_name": "DescriptionStyleModel",
            "_view_count": null,
            "_view_module": "@jupyter-widgets/base",
            "_view_module_version": "1.2.0",
            "_view_name": "StyleView",
            "description_width": ""
          }
        },
        "686453637853479f98fa272493771cc3": {
          "model_module": "@jupyter-widgets/controls",
          "model_name": "HBoxModel",
          "model_module_version": "1.5.0",
          "state": {
            "_dom_classes": [],
            "_model_module": "@jupyter-widgets/controls",
            "_model_module_version": "1.5.0",
            "_model_name": "HBoxModel",
            "_view_count": null,
            "_view_module": "@jupyter-widgets/controls",
            "_view_module_version": "1.5.0",
            "_view_name": "HBoxView",
            "box_style": "",
            "children": [
              "IPY_MODEL_3dcc4204f9d14228a372c97b966becfc",
              "IPY_MODEL_2f0bdce8d5ca406981eb2784e31431d8",
              "IPY_MODEL_c169ae539b584a3bac06d812c373fcf8"
            ],
            "layout": "IPY_MODEL_8f7ef65e97144c978c62fe047d8318dd"
          }
        },
        "3dcc4204f9d14228a372c97b966becfc": {
          "model_module": "@jupyter-widgets/controls",
          "model_name": "HTMLModel",
          "model_module_version": "1.5.0",
          "state": {
            "_dom_classes": [],
            "_model_module": "@jupyter-widgets/controls",
            "_model_module_version": "1.5.0",
            "_model_name": "HTMLModel",
            "_view_count": null,
            "_view_module": "@jupyter-widgets/controls",
            "_view_module_version": "1.5.0",
            "_view_name": "HTMLView",
            "description": "",
            "description_tooltip": null,
            "layout": "IPY_MODEL_57d9b538586d4f74866ad843fcdda674",
            "placeholder": "​",
            "style": "IPY_MODEL_b527a99d9bd541db9487bf232b0f1c99",
            "value": "tokenizer.json: 100%"
          }
        },
        "2f0bdce8d5ca406981eb2784e31431d8": {
          "model_module": "@jupyter-widgets/controls",
          "model_name": "FloatProgressModel",
          "model_module_version": "1.5.0",
          "state": {
            "_dom_classes": [],
            "_model_module": "@jupyter-widgets/controls",
            "_model_module_version": "1.5.0",
            "_model_name": "FloatProgressModel",
            "_view_count": null,
            "_view_module": "@jupyter-widgets/controls",
            "_view_module_version": "1.5.0",
            "_view_name": "ProgressView",
            "bar_style": "success",
            "description": "",
            "description_tooltip": null,
            "layout": "IPY_MODEL_da13d3b2ab6448238adc9764d1885bd7",
            "max": 1389353,
            "min": 0,
            "orientation": "horizontal",
            "style": "IPY_MODEL_082ec6cedefa4660992c93b3d4a1dbad",
            "value": 1389353
          }
        },
        "c169ae539b584a3bac06d812c373fcf8": {
          "model_module": "@jupyter-widgets/controls",
          "model_name": "HTMLModel",
          "model_module_version": "1.5.0",
          "state": {
            "_dom_classes": [],
            "_model_module": "@jupyter-widgets/controls",
            "_model_module_version": "1.5.0",
            "_model_name": "HTMLModel",
            "_view_count": null,
            "_view_module": "@jupyter-widgets/controls",
            "_view_module_version": "1.5.0",
            "_view_name": "HTMLView",
            "description": "",
            "description_tooltip": null,
            "layout": "IPY_MODEL_3deadc88b9fd4d468804f0230aabc056",
            "placeholder": "​",
            "style": "IPY_MODEL_592707abfb274455968891cb36bc8db3",
            "value": " 1.39M/1.39M [00:00&lt;00:00, 1.98MB/s]"
          }
        },
        "8f7ef65e97144c978c62fe047d8318dd": {
          "model_module": "@jupyter-widgets/base",
          "model_name": "LayoutModel",
          "model_module_version": "1.2.0",
          "state": {
            "_model_module": "@jupyter-widgets/base",
            "_model_module_version": "1.2.0",
            "_model_name": "LayoutModel",
            "_view_count": null,
            "_view_module": "@jupyter-widgets/base",
            "_view_module_version": "1.2.0",
            "_view_name": "LayoutView",
            "align_content": null,
            "align_items": null,
            "align_self": null,
            "border": null,
            "bottom": null,
            "display": null,
            "flex": null,
            "flex_flow": null,
            "grid_area": null,
            "grid_auto_columns": null,
            "grid_auto_flow": null,
            "grid_auto_rows": null,
            "grid_column": null,
            "grid_gap": null,
            "grid_row": null,
            "grid_template_areas": null,
            "grid_template_columns": null,
            "grid_template_rows": null,
            "height": null,
            "justify_content": null,
            "justify_items": null,
            "left": null,
            "margin": null,
            "max_height": null,
            "max_width": null,
            "min_height": null,
            "min_width": null,
            "object_fit": null,
            "object_position": null,
            "order": null,
            "overflow": null,
            "overflow_x": null,
            "overflow_y": null,
            "padding": null,
            "right": null,
            "top": null,
            "visibility": null,
            "width": null
          }
        },
        "57d9b538586d4f74866ad843fcdda674": {
          "model_module": "@jupyter-widgets/base",
          "model_name": "LayoutModel",
          "model_module_version": "1.2.0",
          "state": {
            "_model_module": "@jupyter-widgets/base",
            "_model_module_version": "1.2.0",
            "_model_name": "LayoutModel",
            "_view_count": null,
            "_view_module": "@jupyter-widgets/base",
            "_view_module_version": "1.2.0",
            "_view_name": "LayoutView",
            "align_content": null,
            "align_items": null,
            "align_self": null,
            "border": null,
            "bottom": null,
            "display": null,
            "flex": null,
            "flex_flow": null,
            "grid_area": null,
            "grid_auto_columns": null,
            "grid_auto_flow": null,
            "grid_auto_rows": null,
            "grid_column": null,
            "grid_gap": null,
            "grid_row": null,
            "grid_template_areas": null,
            "grid_template_columns": null,
            "grid_template_rows": null,
            "height": null,
            "justify_content": null,
            "justify_items": null,
            "left": null,
            "margin": null,
            "max_height": null,
            "max_width": null,
            "min_height": null,
            "min_width": null,
            "object_fit": null,
            "object_position": null,
            "order": null,
            "overflow": null,
            "overflow_x": null,
            "overflow_y": null,
            "padding": null,
            "right": null,
            "top": null,
            "visibility": null,
            "width": null
          }
        },
        "b527a99d9bd541db9487bf232b0f1c99": {
          "model_module": "@jupyter-widgets/controls",
          "model_name": "DescriptionStyleModel",
          "model_module_version": "1.5.0",
          "state": {
            "_model_module": "@jupyter-widgets/controls",
            "_model_module_version": "1.5.0",
            "_model_name": "DescriptionStyleModel",
            "_view_count": null,
            "_view_module": "@jupyter-widgets/base",
            "_view_module_version": "1.2.0",
            "_view_name": "StyleView",
            "description_width": ""
          }
        },
        "da13d3b2ab6448238adc9764d1885bd7": {
          "model_module": "@jupyter-widgets/base",
          "model_name": "LayoutModel",
          "model_module_version": "1.2.0",
          "state": {
            "_model_module": "@jupyter-widgets/base",
            "_model_module_version": "1.2.0",
            "_model_name": "LayoutModel",
            "_view_count": null,
            "_view_module": "@jupyter-widgets/base",
            "_view_module_version": "1.2.0",
            "_view_name": "LayoutView",
            "align_content": null,
            "align_items": null,
            "align_self": null,
            "border": null,
            "bottom": null,
            "display": null,
            "flex": null,
            "flex_flow": null,
            "grid_area": null,
            "grid_auto_columns": null,
            "grid_auto_flow": null,
            "grid_auto_rows": null,
            "grid_column": null,
            "grid_gap": null,
            "grid_row": null,
            "grid_template_areas": null,
            "grid_template_columns": null,
            "grid_template_rows": null,
            "height": null,
            "justify_content": null,
            "justify_items": null,
            "left": null,
            "margin": null,
            "max_height": null,
            "max_width": null,
            "min_height": null,
            "min_width": null,
            "object_fit": null,
            "object_position": null,
            "order": null,
            "overflow": null,
            "overflow_x": null,
            "overflow_y": null,
            "padding": null,
            "right": null,
            "top": null,
            "visibility": null,
            "width": null
          }
        },
        "082ec6cedefa4660992c93b3d4a1dbad": {
          "model_module": "@jupyter-widgets/controls",
          "model_name": "ProgressStyleModel",
          "model_module_version": "1.5.0",
          "state": {
            "_model_module": "@jupyter-widgets/controls",
            "_model_module_version": "1.5.0",
            "_model_name": "ProgressStyleModel",
            "_view_count": null,
            "_view_module": "@jupyter-widgets/base",
            "_view_module_version": "1.2.0",
            "_view_name": "StyleView",
            "bar_color": null,
            "description_width": ""
          }
        },
        "3deadc88b9fd4d468804f0230aabc056": {
          "model_module": "@jupyter-widgets/base",
          "model_name": "LayoutModel",
          "model_module_version": "1.2.0",
          "state": {
            "_model_module": "@jupyter-widgets/base",
            "_model_module_version": "1.2.0",
            "_model_name": "LayoutModel",
            "_view_count": null,
            "_view_module": "@jupyter-widgets/base",
            "_view_module_version": "1.2.0",
            "_view_name": "LayoutView",
            "align_content": null,
            "align_items": null,
            "align_self": null,
            "border": null,
            "bottom": null,
            "display": null,
            "flex": null,
            "flex_flow": null,
            "grid_area": null,
            "grid_auto_columns": null,
            "grid_auto_flow": null,
            "grid_auto_rows": null,
            "grid_column": null,
            "grid_gap": null,
            "grid_row": null,
            "grid_template_areas": null,
            "grid_template_columns": null,
            "grid_template_rows": null,
            "height": null,
            "justify_content": null,
            "justify_items": null,
            "left": null,
            "margin": null,
            "max_height": null,
            "max_width": null,
            "min_height": null,
            "min_width": null,
            "object_fit": null,
            "object_position": null,
            "order": null,
            "overflow": null,
            "overflow_x": null,
            "overflow_y": null,
            "padding": null,
            "right": null,
            "top": null,
            "visibility": null,
            "width": null
          }
        },
        "592707abfb274455968891cb36bc8db3": {
          "model_module": "@jupyter-widgets/controls",
          "model_name": "DescriptionStyleModel",
          "model_module_version": "1.5.0",
          "state": {
            "_model_module": "@jupyter-widgets/controls",
            "_model_module_version": "1.5.0",
            "_model_name": "DescriptionStyleModel",
            "_view_count": null,
            "_view_module": "@jupyter-widgets/base",
            "_view_module_version": "1.2.0",
            "_view_name": "StyleView",
            "description_width": ""
          }
        }
      }
    }
  },
  "nbformat": 4,
  "nbformat_minor": 0
}